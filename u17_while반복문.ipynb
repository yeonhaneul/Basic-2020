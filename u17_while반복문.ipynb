{
 "cells": [
  {
   "cell_type": "markdown",
   "metadata": {},
   "source": [
    "# Unit 17. while 반복문"
   ]
  },
  {
   "cell_type": "code",
   "execution_count": 1,
   "metadata": {},
   "outputs": [
    {
     "name": "stdout",
     "output_type": "stream",
     "text": [
      "Hello world! 0\n",
      "Hello world! 1\n",
      "Hello world! 2\n",
      "Hello world! 3\n",
      "Hello world! 4\n"
     ]
    }
   ],
   "source": [
    "# 원래 for문\n",
    "for i in range(5):\n",
    "    print('Hello world!', i)"
   ]
  },
  {
   "cell_type": "code",
   "execution_count": 2,
   "metadata": {},
   "outputs": [
    {
     "name": "stdout",
     "output_type": "stream",
     "text": [
      "Hello world! 0\n",
      "Hello world! 1\n",
      "Hello world! 2\n",
      "Hello world! 3\n",
      "Hello world! 4\n"
     ]
    }
   ],
   "source": [
    "# for 문을 while문으로\n",
    "i = 0\n",
    "while i < 5:\n",
    "    print('Hello world!', i)\n",
    "    i += 1 # i값에 영향을 줄 수 있는 식"
   ]
  },
  {
   "cell_type": "code",
   "execution_count": 3,
   "metadata": {},
   "outputs": [
    {
     "name": "stdout",
     "output_type": "stream",
     "text": [
      "반복할 횟수> 3\n",
      "Hello world! 0\n",
      "Hello world! 1\n",
      "Hello world! 2\n"
     ]
    }
   ],
   "source": [
    "count = int(input('반복할 횟수> '))\n",
    "i = 0\n",
    "while i < count:\n",
    "    print('Hello world!', i)\n",
    "    i += 1"
   ]
  },
  {
   "cell_type": "markdown",
   "metadata": {},
   "source": [
    "### 반복 횟수가 정해지지 않았을 경우"
   ]
  },
  {
   "cell_type": "code",
   "execution_count": 4,
   "metadata": {},
   "outputs": [
    {
     "data": {
      "text/plain": [
       "0.3946911849669642"
      ]
     },
     "execution_count": 4,
     "metadata": {},
     "output_type": "execute_result"
    }
   ],
   "source": [
    "# random = 0보다는 크고 1보다는 작은 값이 나옴\n",
    "import random as rd\n",
    "rd.random()"
   ]
  },
  {
   "cell_type": "code",
   "execution_count": 7,
   "metadata": {},
   "outputs": [
    {
     "data": {
      "text/plain": [
       "2"
      ]
     },
     "execution_count": 7,
     "metadata": {},
     "output_type": "execute_result"
    }
   ],
   "source": [
    "rd.randint(1, 6) # 1부터 6까지의 랜덤 정수가 나옴"
   ]
  },
  {
   "cell_type": "code",
   "execution_count": 9,
   "metadata": {},
   "outputs": [
    {
     "name": "stdout",
     "output_type": "stream",
     "text": [
      "5\n",
      "4\n",
      "2\n",
      "5\n"
     ]
    }
   ],
   "source": [
    "dice = rd.randint(1, 6)\n",
    "while dice !=3:\n",
    "    print(dice)\n",
    "    dice = rd.randint(1, 6)"
   ]
  },
  {
   "cell_type": "code",
   "execution_count": 12,
   "metadata": {},
   "outputs": [
    {
     "name": "stdout",
     "output_type": "stream",
     "text": [
      "6\n"
     ]
    }
   ],
   "source": [
    "dice = [1, 2, 3, 4, 5, 6]\n",
    "val = rd.choice(dice)\n",
    "print(val)"
   ]
  },
  {
   "cell_type": "code",
   "execution_count": 15,
   "metadata": {},
   "outputs": [
    {
     "name": "stdout",
     "output_type": "stream",
     "text": [
      "apple\n"
     ]
    }
   ],
   "source": [
    "fruits = ['apple', 'banana', 'cheery']\n",
    "fruit = rd.choice(fruits)\n",
    "print(fruit)"
   ]
  },
  {
   "cell_type": "code",
   "execution_count": 16,
   "metadata": {},
   "outputs": [
    {
     "data": {
      "text/plain": [
       "1"
      ]
     },
     "execution_count": 16,
     "metadata": {},
     "output_type": "execute_result"
    }
   ],
   "source": [
    "int(True)"
   ]
  },
  {
   "cell_type": "code",
   "execution_count": 22,
   "metadata": {},
   "outputs": [
    {
     "name": "stdout",
     "output_type": "stream",
     "text": [
      "정수 입력> 111111111\n",
      "3의 배수\n"
     ]
    }
   ],
   "source": [
    "# num%3 == 0의 결과는 true(1)또는 false(0)\n",
    "num = int(input('정수 입력> '))\n",
    "print('3의 배수' * (num % 3 == 0) or '3의 배수가 아닙니다.')"
   ]
  },
  {
   "cell_type": "code",
   "execution_count": null,
   "metadata": {},
   "outputs": [],
   "source": [
    "## while true와 while1은 같은 의미이다.\n",
    "while True:\n",
    "    alksdnglehtldkn;"
   ]
  },
  {
   "cell_type": "code",
   "execution_count": null,
   "metadata": {},
   "outputs": [],
   "source": [
    "while 1:\n",
    "    aldnglenlndklfnl"
   ]
  },
  {
   "cell_type": "code",
   "execution_count": 26,
   "metadata": {},
   "outputs": [
    {
     "name": "stdout",
     "output_type": "stream",
     "text": [
      "2 5\n",
      "4 4\n",
      "8 3\n",
      "16 2\n",
      "32 1\n"
     ]
    }
   ],
   "source": [
    "# 17.5 연습문제: 변수 두 개를 다르게 반복하기\n",
    "## 다음 소스 코드를 완성하여 정수 2 5, 4 4, 8 3, 16 2, 32 1이\n",
    "## 각 줄에 출력되게 만드세요. while에 조건식은 두 개 지정하고,\n",
    "## 두 변수를 모두 변화시켜야 합니다\n",
    "i = 2\n",
    "j = 5\n",
    "\n",
    "while i<33 or j>0:\n",
    "    print(i, j)\n",
    "    i *= 2\n",
    "    j -= 1"
   ]
  },
  {
   "cell_type": "code",
   "execution_count": 34,
   "metadata": {},
   "outputs": [
    {
     "name": "stdout",
     "output_type": "stream",
     "text": [
      "12150\n",
      "10800\n",
      "9450\n",
      "8100\n",
      "6750\n",
      "5400\n",
      "4050\n",
      "2700\n",
      "1350\n",
      "0\n"
     ]
    }
   ],
   "source": [
    "# 17.6 심사문제: 교통카드 잔액 출력하기\n",
    "## 표준 입력으로 금액(정수)이 입력됩니다.\n",
    "## 1회당 요금은 1,350원이고, 교통카드를 사용했을 때마다의 잔액을\n",
    "## 각 줄에 출력하는 프로그램을 만드세요(input에서 안내 문자열은 출력하지 않아야 합니다).\n",
    "## 단, 최초 금액은 출력하지 않아야 합니다.\n",
    "## 그리고 잔액은 음수가 될 수 없으며 잔액이 부족하면 출력을 끝냅니다.\n",
    "## 4줄\n",
    "money = int(input())\n",
    "while money>=1350:\n",
    "    money -= 1350\n",
    "    print(money)"
   ]
  },
  {
   "cell_type": "code",
   "execution_count": null,
   "metadata": {},
   "outputs": [],
   "source": []
  }
 ],
 "metadata": {
  "kernelspec": {
   "display_name": "Python 3",
   "language": "python",
   "name": "python3"
  }
 },
 "nbformat": 4,
 "nbformat_minor": 4
}
