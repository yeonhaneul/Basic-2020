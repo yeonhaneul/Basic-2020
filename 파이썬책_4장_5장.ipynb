{
 "cells": [
  {
   "cell_type": "markdown",
   "metadata": {},
   "source": [
    "# 4장 연습문제"
   ]
  },
  {
   "cell_type": "code",
   "execution_count": 1,
   "metadata": {},
   "outputs": [
    {
     "name": "stdout",
     "output_type": "stream",
     "text": [
      "1~10 사이의 숫자 입력> 7\n",
      "1~10 사이의 다른 숫자 입력> 4\n",
      "too low\n"
     ]
    }
   ],
   "source": [
    "# 4.1\n",
    "secret = int(input('1~10 사이의 숫자 입력> '))\n",
    "guess = int(input('1~10 사이의 다른 숫자 입력> '))\n",
    "if guess < secret:\n",
    "    print('too low')\n",
    "elif guess > secret:\n",
    "    print('too high')\n",
    "else:\n",
    "    print('just right')"
   ]
  },
  {
   "cell_type": "code",
   "execution_count": 2,
   "metadata": {},
   "outputs": [
    {
     "name": "stdout",
     "output_type": "stream",
     "text": [
      "크고 녹색인것은 수박입니다.\n"
     ]
    }
   ],
   "source": [
    "# 4.2\n",
    "small = False\n",
    "green = True\n",
    "if small is True:\n",
    "    if green is True:\n",
    "        print('작고 녹색인 것은 완두콩입니다.')\n",
    "    else:\n",
    "        print('작지만 녹색이 아닌것은 체리입니다.')\n",
    "if small is False:\n",
    "    if green is True:\n",
    "        print('크고 녹색인것은 수박입니다.')\n",
    "    else:\n",
    "        print('크고 녹색도 아닌것은 호박입니다.')    "
   ]
  },
  {
   "cell_type": "markdown",
   "metadata": {},
   "source": [
    "# 5장 연습문제"
   ]
  },
  {
   "cell_type": "code",
   "execution_count": 3,
   "metadata": {},
   "outputs": [
    {
     "name": "stdout",
     "output_type": "stream",
     "text": [
      "\n",
      "When an eel grabs your arM,\n",
      "and it causes great harM,\n",
      "that's - a Moray\n"
     ]
    }
   ],
   "source": [
    "# 5.1\n",
    "song = \"\"\"\n",
    "When an eel grabs your arm,\n",
    "and it causes great harm,\n",
    "that's - a moray\"\"\"\n",
    "print(song.replace('m', 'M'))"
   ]
  },
  {
   "cell_type": "code",
   "execution_count": 4,
   "metadata": {},
   "outputs": [
    {
     "name": "stdout",
     "output_type": "stream",
     "text": [
      "Q:  We don't serve strings around here. Are you a string? \n",
      "A:  An exploding sheep.\n",
      "Q:  What is said on Father's Day in the forest? \n",
      "A:  No, I'm a frayed knot.\n",
      "Q:  What makes the sound 'Sis! Boom! Bah!'? \n",
      "A:  'Pop!' goes the weasel.\n"
     ]
    }
   ],
   "source": [
    "# 5.2\n",
    "questions = [\n",
    "    \"We don't serve strings around here. Are you a string?\",\n",
    "    \"What is said on Father's Day in the forest?\",\n",
    "    \"What makes the sound 'Sis! Boom! Bah!'?\",]\n",
    "answers = [\n",
    "    \"An exploding sheep.\",\n",
    "    \"No, I'm a frayed knot.\",\n",
    "    \"'Pop!' goes the weasel.\"]\n",
    "\n",
    "for q, a in zip(questions, answers):\n",
    "    print('Q: ', q, '\\nA: ', a)"
   ]
  },
  {
   "cell_type": "code",
   "execution_count": 5,
   "metadata": {},
   "outputs": [
    {
     "name": "stdout",
     "output_type": "stream",
     "text": [
      "\n",
      "my kitty cat likes roast beef\n",
      "my kitty cat likes ham,\n",
      "my kitty cat likes fell on his head And now thinks he's a clam.\n",
      "\n"
     ]
    }
   ],
   "source": [
    "# 5.3\n",
    "poem = \"\"\"\n",
    "my kitty cat likes %s\n",
    "my kitty cat likes %s,\n",
    "my kitty cat likes fell on his %s And now thinks he's a %s.\n",
    "\"\"\"%('roast beef','ham','head','clam')\n",
    "print(poem)"
   ]
  },
  {
   "cell_type": "code",
   "execution_count": 6,
   "metadata": {},
   "outputs": [
    {
     "name": "stdout",
     "output_type": "stream",
     "text": [
      "\n",
      "Dear Mrs. Smith,\n",
      "Thank you for your letter. We are sorry that our camera bought in your bedroom.\n",
      "Please note that it shoule never be used in a bedroom, especially near any cat.\n",
      "\n",
      "Send us your receipt and delivery charge for shipping and handling. We will send you another camera that, in our tests, is 50% less likely to have bought.\n",
      "\n",
      "Thank you for your support.\n",
      "Sincerely,\n",
      "Robert\n",
      "Customer Manager\n",
      "\n"
     ]
    }
   ],
   "source": [
    "# 5.4\n",
    "\n",
    "letter = '''\n",
    "Dear {salutation} {name},\n",
    "Thank you for your letter. We are sorry that our {product} {verbed} in your {room}.\n",
    "Please note that it shoule never be used in a {room}, especially near any {animals}.\n",
    "\n",
    "Send us your receipt and {amount} for shipping and handling. We will send you another {product} that, in our tests, is {percent}% less likely to have {verbed}.\n",
    "\n",
    "Thank you for your support.\n",
    "Sincerely,\n",
    "{spokesman}\n",
    "{job_title}\n",
    "'''.format(salutation = 'Mrs.', name = 'Smith', product = 'camera', verbed = 'bought',\n",
    "          room = 'bedroom', animals = 'cat', amount = 'delivery charge', percent = 50, \n",
    "          spokesman = 'Robert', job_title = 'Customer Manager')\n",
    "print(letter)"
   ]
  },
  {
   "cell_type": "code",
   "execution_count": 7,
   "metadata": {},
   "outputs": [
    {
     "name": "stdout",
     "output_type": "stream",
     "text": [
      "Ducky McDuckface\n",
      "Gourdy McGourdface\n",
      "Spitzy McSpitzface\n"
     ]
    }
   ],
   "source": [
    "#5.5\n",
    "a = ['duck', 'gourd', 'spitz']\n",
    "\n",
    "print('%s''y'' ''Mc''%s''face' %(a[0].capitalize(), a[0].capitalize()))\n",
    "print('%s''y'' ''Mc''%s''face' %(a[1].capitalize(), a[1].capitalize()))\n",
    "print('%s''y'' ''Mc''%s''face' %(a[2].capitalize(), a[2].capitalize()))"
   ]
  },
  {
   "cell_type": "code",
   "execution_count": 8,
   "metadata": {},
   "outputs": [
    {
     "name": "stdout",
     "output_type": "stream",
     "text": [
      "Ducky McDuckface\n",
      "Gourdy McGourdface\n",
      "Spitzy McSpitzface\n"
     ]
    }
   ],
   "source": [
    "#5.6\n",
    "a = ['duck', 'gourd', 'spitz']\n",
    "\n",
    "print('{}y Mc{}face'.format(a[0].capitalize(), a[0].capitalize()))\n",
    "print('{}y Mc{}face'.format(a[1].capitalize(), a[1].capitalize()))\n",
    "print('{}y Mc{}face'.format(a[2].capitalize(), a[2].capitalize()))"
   ]
  },
  {
   "cell_type": "code",
   "execution_count": 9,
   "metadata": {},
   "outputs": [
    {
     "name": "stdout",
     "output_type": "stream",
     "text": [
      "Ducky McDuckface\n",
      "Gourdy McGourdface\n",
      "Spitzy McSpitzface\n"
     ]
    }
   ],
   "source": [
    "#5.7\n",
    "a = ['duck', 'gourd', 'spitz']\n",
    "\n",
    "print(f'{a[0].capitalize()}y Mc{a[0].capitalize()}face')\n",
    "print(f'{a[1].capitalize()}y Mc{a[1].capitalize()}face')\n",
    "print(f'{a[2].capitalize()}y Mc{a[2].capitalize()}face')"
   ]
  }
 ],
 "metadata": {
  "kernelspec": {
   "display_name": "Python 3",
   "language": "python",
   "name": "python3"
  },
  "language_info": {
   "codemirror_mode": {
    "name": "ipython",
    "version": 3
   },
   "file_extension": ".py",
   "mimetype": "text/x-python",
   "name": "python",
   "nbconvert_exporter": "python",
   "pygments_lexer": "ipython3",
   "version": "3.8.3"
  }
 },
 "nbformat": 4,
 "nbformat_minor": 4
}
