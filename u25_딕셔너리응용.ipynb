{
 "cells": [
  {
   "cell_type": "markdown",
   "metadata": {},
   "source": [
    "# Unit 25. 딕셔너리 응용하기"
   ]
  },
  {
   "cell_type": "code",
   "execution_count": 1,
   "metadata": {},
   "outputs": [],
   "source": [
    "# 값을 지정하지 않은 상태로 key 추가(값은 None이 된다.)\n",
    "x = {'a': 10, 'b': 20, 'c': 30, 'd': 40}\n",
    "x.setdefault('e')\n",
    "x"
   ]
  },
  {
   "cell_type": "code",
   "execution_count": 2,
   "metadata": {},
   "outputs": [
    {
     "data": {
      "text/plain": [
       "{'a': 10, 'b': 20, 'c': 30, 'd': 40, 'e': None, 'f': 100}"
      ]
     },
     "execution_count": 2,
     "metadata": {},
     "output_type": "execute_result"
    }
   ],
   "source": [
    "# 값을 지정한 상태로 key 추가\n",
    "x.setdefault('f', 100)\n",
    "x"
   ]
  },
  {
   "cell_type": "code",
   "execution_count": 3,
   "metadata": {},
   "outputs": [
    {
     "data": {
      "text/plain": [
       "{'a': 10, 'b': 20, 'c': 30, 'd': 40, 'e': 50, 'f': 100}"
      ]
     },
     "execution_count": 3,
     "metadata": {},
     "output_type": "execute_result"
    }
   ],
   "source": [
    "# setdefault는 추가만 가능하며, 변경이 불가능하다.\n",
    "# 값을 변경 또는 추가하고싶은경우 update라는 메소드를 사용한다.\n",
    "# key값이 문자열인경우 괄호를 열고 키값을 입력한다.\n",
    "x.update(e=50)\n",
    "x"
   ]
  },
  {
   "cell_type": "code",
   "execution_count": 4,
   "metadata": {},
   "outputs": [
    {
     "data": {
      "text/plain": [
       "{'a': 900, 'b': 20, 'c': 30, 'd': 40, 'e': 50, 'f': 60}"
      ]
     },
     "execution_count": 4,
     "metadata": {},
     "output_type": "execute_result"
    }
   ],
   "source": [
    "# 값 동시에 변경하기\n",
    "x.update(a=900, f=60)\n",
    "x"
   ]
  },
  {
   "cell_type": "code",
   "execution_count": 5,
   "metadata": {},
   "outputs": [
    {
     "data": {
      "text/plain": [
       "{1: 'ONE', 2: 'two', 3: 'THREE'}"
      ]
     },
     "execution_count": 5,
     "metadata": {},
     "output_type": "execute_result"
    }
   ],
   "source": [
    "# 키가 정수인경우, 콜론(:)으로 업데이트를 진행하여야한다.\n",
    "y = {1: 'one', 2: 'two'}\n",
    "y.update({1: 'ONE', 3: 'THREE'})\n",
    "y"
   ]
  },
  {
   "cell_type": "code",
   "execution_count": 6,
   "metadata": {},
   "outputs": [
    {
     "data": {
      "text/plain": [
       "{1: 'ONE', 2: 'TWO', 3: 'THREE', 4: 'FOUR'}"
      ]
     },
     "execution_count": 6,
     "metadata": {},
     "output_type": "execute_result"
    }
   ],
   "source": [
    "# 리스트를 이용하는 방법\n",
    "y.update([[2, 'TWO'], [4, 'FOUR']])\n",
    "y"
   ]
  },
  {
   "cell_type": "code",
   "execution_count": 7,
   "metadata": {},
   "outputs": [
    {
     "data": {
      "text/plain": [
       "{1: 'one', 2: 'two', 3: 'THREE', 4: 'FOUR'}"
      ]
     },
     "execution_count": 7,
     "metadata": {},
     "output_type": "execute_result"
    }
   ],
   "source": [
    "# zip으로 묶어서 사용하는 방법\n",
    "y.update(zip([1, 2], ['one', 'two']))\n",
    "y"
   ]
  },
  {
   "cell_type": "code",
   "execution_count": 8,
   "metadata": {},
   "outputs": [
    {
     "data": {
      "text/plain": [
       "{'b': 20, 'c': 30, 'd': 40}"
      ]
     },
     "execution_count": 8,
     "metadata": {},
     "output_type": "execute_result"
    }
   ],
   "source": [
    "# 엘리먼트 삭제\n",
    "x = {'a': 10, 'b': 20, 'c': 30, 'd': 40}\n",
    "x.pop('a')\n",
    "x"
   ]
  },
  {
   "cell_type": "code",
   "execution_count": 9,
   "metadata": {},
   "outputs": [
    {
     "data": {
      "text/plain": [
       "({'b': 20, 'c': 30, 'd': 40}, 10)"
      ]
     },
     "execution_count": 9,
     "metadata": {},
     "output_type": "execute_result"
    }
   ],
   "source": [
    "# 변수 z에 x의 키값을 삭제하는것을 둔 경우, 키가 삭제된 값이 z변수에 저장된다.\n",
    "x = {'a': 10, 'b': 20, 'c': 30, 'd': 40}\n",
    "z = x.pop('a')\n",
    "x, z"
   ]
  },
  {
   "cell_type": "code",
   "execution_count": 10,
   "metadata": {},
   "outputs": [
    {
     "data": {
      "text/plain": [
       "20"
      ]
     },
     "execution_count": 10,
     "metadata": {},
     "output_type": "execute_result"
    }
   ],
   "source": [
    "z = x.pop('b', 0)\n",
    "z"
   ]
  },
  {
   "cell_type": "code",
   "execution_count": 11,
   "metadata": {},
   "outputs": [
    {
     "data": {
      "text/plain": [
       "0"
      ]
     },
     "execution_count": 11,
     "metadata": {},
     "output_type": "execute_result"
    }
   ],
   "source": [
    "# 딕셔너리에 없는 것을 z로 삭제하는경우, 뒤에 기재한 디폴트값 0 이 나온다.\n",
    "z = x.pop('z', 0)\n",
    "z"
   ]
  },
  {
   "cell_type": "code",
   "execution_count": 12,
   "metadata": {},
   "outputs": [
    {
     "data": {
      "text/plain": [
       "{'d': 40}"
      ]
     },
     "execution_count": 12,
     "metadata": {},
     "output_type": "execute_result"
    }
   ],
   "source": [
    "# del로 삭제하기\n",
    "del x['c']\n",
    "x"
   ]
  },
  {
   "cell_type": "code",
   "execution_count": 14,
   "metadata": {},
   "outputs": [
    {
     "data": {
      "text/plain": [
       "{'a': 10, 'b': 20, 'c': 30}"
      ]
     },
     "execution_count": 14,
     "metadata": {},
     "output_type": "execute_result"
    }
   ],
   "source": [
    "# 파이썬 3.6에서는 맨 뒤의 값이 삭제\n",
    "# 파이썬 3.5이전에서는 값 중 랜덤으로 삭제된다.\n",
    "x = {'a': 10, 'b': 20, 'c': 30, 'd': 40}\n",
    "x.popitem()\n",
    "x"
   ]
  },
  {
   "cell_type": "code",
   "execution_count": 15,
   "metadata": {},
   "outputs": [
    {
     "data": {
      "text/plain": [
       "{}"
      ]
     },
     "execution_count": 15,
     "metadata": {},
     "output_type": "execute_result"
    }
   ],
   "source": [
    "x = {'a': 10, 'b': 20, 'c': 30, 'd': 40}\n",
    "x.clear()\n",
    "x"
   ]
  },
  {
   "cell_type": "code",
   "execution_count": 17,
   "metadata": {},
   "outputs": [
    {
     "data": {
      "text/plain": [
       "10"
      ]
     },
     "execution_count": 17,
     "metadata": {},
     "output_type": "execute_result"
    }
   ],
   "source": [
    "# x['a']\n",
    "x = {'a': 10, 'b': 20, 'c': 30, 'd': 40}\n",
    "z = x.get('a')\n",
    "z"
   ]
  },
  {
   "cell_type": "markdown",
   "metadata": {},
   "source": [
    "## 딕셔너리에서 키-값 쌍을 모두 가져오기"
   ]
  },
  {
   "cell_type": "code",
   "execution_count": 18,
   "metadata": {},
   "outputs": [
    {
     "data": {
      "text/plain": [
       "dict_items([('a', 10), ('b', 20), ('c', 30), ('d', 40)])"
      ]
     },
     "execution_count": 18,
     "metadata": {},
     "output_type": "execute_result"
    }
   ],
   "source": [
    "# 이를 통하여 for문을 돌릴 수 있다.\n",
    "x = {'a': 10, 'b': 20, 'c': 30, 'd': 40}\n",
    "x.items()"
   ]
  },
  {
   "cell_type": "code",
   "execution_count": 19,
   "metadata": {},
   "outputs": [
    {
     "name": "stdout",
     "output_type": "stream",
     "text": [
      "a 10\n",
      "b 20\n",
      "c 30\n",
      "d 40\n"
     ]
    }
   ],
   "source": [
    "for key, value in x.items():\n",
    "    print(key, value)"
   ]
  },
  {
   "cell_type": "code",
   "execution_count": 20,
   "metadata": {},
   "outputs": [
    {
     "data": {
      "text/plain": [
       "dict_keys(['a', 'b', 'c', 'd'])"
      ]
     },
     "execution_count": 20,
     "metadata": {},
     "output_type": "execute_result"
    }
   ],
   "source": [
    "# 키를 모두 가져 올 수 있는 keys\n",
    "x.keys()"
   ]
  },
  {
   "cell_type": "code",
   "execution_count": 21,
   "metadata": {},
   "outputs": [
    {
     "data": {
      "text/plain": [
       "dict_values([10, 20, 30, 40])"
      ]
     },
     "execution_count": 21,
     "metadata": {},
     "output_type": "execute_result"
    }
   ],
   "source": [
    "# 값을 모두 가져 올 수 있는 values\n",
    "x.values()"
   ]
  },
  {
   "cell_type": "code",
   "execution_count": 22,
   "metadata": {},
   "outputs": [
    {
     "name": "stdout",
     "output_type": "stream",
     "text": [
      "a 10\n",
      "b 20\n",
      "c 30\n",
      "d 40\n"
     ]
    }
   ],
   "source": [
    "# x[key] -> x의 key값에 있는 value를 갖고온다.\n",
    "for key in x.keys():\n",
    "    print(key, x[key])"
   ]
  },
  {
   "cell_type": "markdown",
   "metadata": {},
   "source": [
    "### 리스트와 튜플로 딕셔너리 만들기"
   ]
  },
  {
   "cell_type": "code",
   "execution_count": 23,
   "metadata": {},
   "outputs": [
    {
     "data": {
      "text/plain": [
       "{'a': None, 'b': None, 'c': None, 'd': None}"
      ]
     },
     "execution_count": 23,
     "metadata": {},
     "output_type": "execute_result"
    }
   ],
   "source": [
    "# key값을 지정하지 않아, none으로 나온다.\n",
    "# 키 리스트로 딕셔너리를 생성한다.\n",
    "keys = ['a', 'b', 'c', 'd']\n",
    "x = dict.fromkeys(keys)\n",
    "x"
   ]
  },
  {
   "cell_type": "code",
   "execution_count": 24,
   "metadata": {},
   "outputs": [
    {
     "data": {
      "text/plain": [
       "{'a': 100, 'b': 100, 'c': 100, 'd': 100}"
      ]
     },
     "execution_count": 24,
     "metadata": {},
     "output_type": "execute_result"
    }
   ],
   "source": [
    "# 리스트와 값을 지정하면 해당 값이 키의 값으로 저장된다.\n",
    "y= dict.fromkeys(keys, 100)\n",
    "y"
   ]
  },
  {
   "cell_type": "markdown",
   "metadata": {},
   "source": [
    "### 딕셔너리와 for 반복문"
   ]
  },
  {
   "cell_type": "code",
   "execution_count": 25,
   "metadata": {},
   "outputs": [
    {
     "name": "stdout",
     "output_type": "stream",
     "text": [
      "a 10\n",
      "b 20\n",
      "c 30\n",
      "d 40\n"
     ]
    }
   ],
   "source": [
    "x = {'a': 10, 'b': 20, 'c': 30, 'd': 40}\n",
    "for key,value in x.items():\n",
    "    print(key, value)"
   ]
  },
  {
   "cell_type": "code",
   "execution_count": 29,
   "metadata": {},
   "outputs": [
    {
     "name": "stdout",
     "output_type": "stream",
     "text": [
      "a 10\n",
      "b 20\n",
      "c 30\n",
      "d 40\n"
     ]
    }
   ],
   "source": [
    "# key와, key값을 통한 value를 갖고오기\n",
    "for key in x.keys():\n",
    "    print(key, x.get(key))"
   ]
  },
  {
   "cell_type": "code",
   "execution_count": 30,
   "metadata": {},
   "outputs": [
    {
     "name": "stdout",
     "output_type": "stream",
     "text": [
      "10\n",
      "20\n",
      "30\n",
      "40\n"
     ]
    }
   ],
   "source": [
    "# value를 통하여 key는 뽑아 낼 수 없다.\n",
    "for value in x.values():\n",
    "    print(value)"
   ]
  },
  {
   "cell_type": "markdown",
   "metadata": {},
   "source": [
    "### 딕셔너리 표현식"
   ]
  },
  {
   "cell_type": "code",
   "execution_count": 31,
   "metadata": {},
   "outputs": [
    {
     "data": {
      "text/plain": [
       "{'a': None, 'b': None, 'c': None, 'd': None}"
      ]
     },
     "execution_count": 31,
     "metadata": {},
     "output_type": "execute_result"
    }
   ],
   "source": [
    "# 표현식 - filtering 할 떄 사용된다.\n",
    "# 딕셔너리({key:value...})로 표현하기\n",
    "# 반복문으로 key값과 value값을 리스트에서 갖고와, dict.fromkeys(keys) -> 딕셔너리\n",
    "# 로만든 후, key값과 value값을 쌍으로 엮어주기 위하여 items()를 사용한다.\n",
    "keys = ['a', 'b', 'c', 'd']\n",
    "x = {key: value for key, value in dict.fromkeys(keys).items()}\n",
    "x"
   ]
  },
  {
   "cell_type": "code",
   "execution_count": 32,
   "metadata": {},
   "outputs": [
    {
     "data": {
      "text/plain": [
       "{'a': 0, 'b': 0, 'c': 0, 'd': 0}"
      ]
     },
     "execution_count": 32,
     "metadata": {},
     "output_type": "execute_result"
    }
   ],
   "source": [
    "keys = ['a', 'b', 'c', 'd']\n",
    "x = {key: value for key, value in dict.fromkeys(keys, 0).items()}\n",
    "x"
   ]
  },
  {
   "cell_type": "code",
   "execution_count": 33,
   "metadata": {},
   "outputs": [
    {
     "data": {
      "text/plain": [
       "{10: 'a', 20: 'b', 30: 'c', 40: 'd'}"
      ]
     },
     "execution_count": 33,
     "metadata": {},
     "output_type": "execute_result"
    }
   ],
   "source": [
    "# key값과 value값의 자리를 바꾼 딕셔너리\n",
    "{value: key for key, value in {'a': 10, 'b': 20, 'c': 30, 'd': 40}.items()}"
   ]
  },
  {
   "cell_type": "code",
   "execution_count": 34,
   "metadata": {},
   "outputs": [
    {
     "ename": "RuntimeError",
     "evalue": "dictionary changed size during iteration",
     "output_type": "error",
     "traceback": [
      "\u001b[1;31m---------------------------------------------------------------------------\u001b[0m",
      "\u001b[1;31mRuntimeError\u001b[0m                              Traceback (most recent call last)",
      "\u001b[1;32m<ipython-input-34-07a9f505cc15>\u001b[0m in \u001b[0;36m<module>\u001b[1;34m\u001b[0m\n\u001b[0;32m      1\u001b[0m \u001b[0mx\u001b[0m \u001b[1;33m=\u001b[0m \u001b[1;33m{\u001b[0m\u001b[1;34m'a'\u001b[0m\u001b[1;33m:\u001b[0m \u001b[1;36m10\u001b[0m\u001b[1;33m,\u001b[0m \u001b[1;34m'b'\u001b[0m\u001b[1;33m:\u001b[0m \u001b[1;36m20\u001b[0m\u001b[1;33m,\u001b[0m \u001b[1;34m'c'\u001b[0m\u001b[1;33m:\u001b[0m \u001b[1;36m30\u001b[0m\u001b[1;33m,\u001b[0m \u001b[1;34m'd'\u001b[0m\u001b[1;33m:\u001b[0m \u001b[1;36m40\u001b[0m\u001b[1;33m}\u001b[0m\u001b[1;33m\u001b[0m\u001b[1;33m\u001b[0m\u001b[0m\n\u001b[1;32m----> 2\u001b[1;33m \u001b[1;32mfor\u001b[0m \u001b[0mkey\u001b[0m\u001b[1;33m,\u001b[0m \u001b[0mvalue\u001b[0m \u001b[1;32min\u001b[0m \u001b[0mx\u001b[0m\u001b[1;33m.\u001b[0m\u001b[0mitems\u001b[0m\u001b[1;33m(\u001b[0m\u001b[1;33m)\u001b[0m\u001b[1;33m:\u001b[0m\u001b[1;33m\u001b[0m\u001b[1;33m\u001b[0m\u001b[0m\n\u001b[0m\u001b[0;32m      3\u001b[0m     \u001b[1;32mif\u001b[0m \u001b[0mvalue\u001b[0m \u001b[1;33m==\u001b[0m \u001b[1;36m20\u001b[0m\u001b[1;33m:\u001b[0m    \u001b[1;31m# 값이 20이면\u001b[0m\u001b[1;33m\u001b[0m\u001b[1;33m\u001b[0m\u001b[0m\n\u001b[0;32m      4\u001b[0m         \u001b[1;32mdel\u001b[0m \u001b[0mx\u001b[0m\u001b[1;33m[\u001b[0m\u001b[0mkey\u001b[0m\u001b[1;33m]\u001b[0m     \u001b[1;31m# 키-값 쌍 삭제\u001b[0m\u001b[1;33m\u001b[0m\u001b[1;33m\u001b[0m\u001b[0m\n\u001b[0;32m      5\u001b[0m \u001b[0mx\u001b[0m\u001b[1;33m\u001b[0m\u001b[1;33m\u001b[0m\u001b[0m\n",
      "\u001b[1;31mRuntimeError\u001b[0m: dictionary changed size during iteration"
     ]
    }
   ],
   "source": [
    "# 반복문을 돌리는도중에, element가 삭제되어 크기가 달라져서 에러 발생\n",
    "x = {'a': 10, 'b': 20, 'c': 30, 'd': 40}\n",
    "for key, value in x.items():\n",
    "    if value == 20:    # 값이 20이면\n",
    "        del x[key]     # 키-값 쌍 삭제\n",
    "x"
   ]
  },
  {
   "cell_type": "code",
   "execution_count": 35,
   "metadata": {},
   "outputs": [
    {
     "data": {
      "text/plain": [
       "{'a': 10, 'c': 30, 'd': 40}"
      ]
     },
     "execution_count": 35,
     "metadata": {},
     "output_type": "execute_result"
    }
   ],
   "source": [
    "# 값이 20이 아니면, key:value로 표시\n",
    "# 나온 값이 새로운 딕셔너리가 된다.\n",
    "x = {'a': 10, 'b': 20, 'c': 30, 'd': 40}\n",
    "x = {key: value for key, value in x.items() if value != 20}\n",
    "x"
   ]
  },
  {
   "cell_type": "code",
   "execution_count": 36,
   "metadata": {},
   "outputs": [
    {
     "data": {
      "text/plain": [
       "{'a': 10, 'b': 20}"
      ]
     },
     "execution_count": 36,
     "metadata": {},
     "output_type": "execute_result"
    }
   ],
   "source": [
    "# Filtering\n",
    "# 25이하의 value값만 나오게\n",
    "x = {'a': 10, 'b': 20, 'c': 30, 'd': 40}\n",
    "x = {key: value for key, value in x.items() if value < 25}\n",
    "x"
   ]
  },
  {
   "cell_type": "markdown",
   "metadata": {},
   "source": [
    "### nested dictionary"
   ]
  },
  {
   "cell_type": "code",
   "execution_count": 37,
   "metadata": {},
   "outputs": [],
   "source": [
    "# 딕셔너리 안의 딕셔너리(중첩 딕셔너리)\n",
    "# 딕셔너리 = {키1: {키A: 값A}, 키2: {키B: 값B}}\n",
    "terrestrial_planet = {\n",
    "    'Mercury': {\n",
    "        'mean_radius': 2439.7,\n",
    "        'mass': 3.3022E+23,\n",
    "        'orbital_period': 87.969\n",
    "    },\n",
    "    'Venus': {\n",
    "        'mean_radius': 6051.8,\n",
    "        'mass': 4.8676E+24,\n",
    "        'orbital_period': 224.70069,\n",
    "    },\n",
    "    'Earth': {\n",
    "        'mean_radius': 6371.0,\n",
    "        'mass': 5.97219E+24,\n",
    "        'orbital_period': 365.25641,\n",
    "    },\n",
    "    'Mars': {\n",
    "        'mean_radius': 3389.5,\n",
    "        'mass': 6.4185E+23,\n",
    "        'orbital_period': 686.9600,\n",
    "    }\n",
    "}"
   ]
  },
  {
   "cell_type": "code",
   "execution_count": 38,
   "metadata": {},
   "outputs": [
    {
     "name": "stdout",
     "output_type": "stream",
     "text": [
      "6051.8\n"
     ]
    }
   ],
   "source": [
    "print(terrestrial_planet['Venus']['mean_radius'])"
   ]
  },
  {
   "cell_type": "code",
   "execution_count": 42,
   "metadata": {},
   "outputs": [
    {
     "name": "stdout",
     "output_type": "stream",
     "text": [
      "Mercury\n",
      "\tmean_radius:\t2439.7\n",
      "\tmass:\t3.3022e+23\n",
      "\torbital_period:\t87.969\n",
      "Venus\n",
      "\tmean_radius:\t6051.8\n",
      "\tmass:\t4.8676e+24\n",
      "\torbital_period:\t224.70069\n",
      "Earth\n",
      "\tmean_radius:\t6371.0\n",
      "\tmass:\t5.97219e+24\n",
      "\torbital_period:\t365.25641\n",
      "Mars\n",
      "\tmean_radius:\t3389.5\n",
      "\tmass:\t6.4185e+23\n",
      "\torbital_period:\t686.96\n"
     ]
    }
   ],
   "source": [
    "for outer_key, outer_value in terrestrial_planet.items():\n",
    "    print(outer_key)\n",
    "    for inner_key, inner_value in outer_value.items():\n",
    "        print('\\t', inner_key, ':\\t', inner_value, sep='')"
   ]
  },
  {
   "cell_type": "markdown",
   "metadata": {},
   "source": [
    "### 딕셔너리의 할당과 복사"
   ]
  },
  {
   "cell_type": "code",
   "execution_count": 43,
   "metadata": {},
   "outputs": [
    {
     "data": {
      "text/plain": [
       "{'a': 10, 'b': 20, 'c': 30, 'd': 99}"
      ]
     },
     "execution_count": 43,
     "metadata": {},
     "output_type": "execute_result"
    }
   ],
   "source": [
    "x = {'a': 10, 'b': 20, 'c': 30, 'd': 40}\n",
    "y = x\n",
    "y['d'] = 99\n",
    "x"
   ]
  },
  {
   "cell_type": "code",
   "execution_count": 45,
   "metadata": {},
   "outputs": [
    {
     "data": {
      "text/plain": [
       "{'a': 10, 'b': 20, 'c': 30, 'd': 40}"
      ]
     },
     "execution_count": 45,
     "metadata": {},
     "output_type": "execute_result"
    }
   ],
   "source": [
    "x = {'a': 10, 'b': 20, 'c': 30, 'd': 40}\n",
    "y = x.copy()\n",
    "y['d'] = 99\n",
    "x"
   ]
  },
  {
   "cell_type": "code",
   "execution_count": 46,
   "metadata": {},
   "outputs": [
    {
     "data": {
      "text/plain": [
       "{'a': {'python': '2.7.15'}, 'b': {'python': '3.6'}}"
      ]
     },
     "execution_count": 46,
     "metadata": {},
     "output_type": "execute_result"
    }
   ],
   "source": [
    "# deep copy\n",
    "x = {'a': {'python': '2.7'}, 'b': {'python': '3.6'}}\n",
    "y = x.copy()\n",
    "y['a']['python'] = '2.7.15'\n",
    "x"
   ]
  },
  {
   "cell_type": "code",
   "execution_count": 47,
   "metadata": {},
   "outputs": [
    {
     "data": {
      "text/plain": [
       "{'a': {'python': '2.7'}, 'b': {'python': '3.6'}}"
      ]
     },
     "execution_count": 47,
     "metadata": {},
     "output_type": "execute_result"
    }
   ],
   "source": [
    "x = {'a': {'python': '2.7'}, 'b': {'python': '3.6'}}\n",
    "import copy\n",
    "y = copy.deepcopy(x)\n",
    "y['a']['python'] = '2.7.15'\n",
    "x"
   ]
  },
  {
   "cell_type": "code",
   "execution_count": null,
   "metadata": {},
   "outputs": [],
   "source": []
  },
  {
   "cell_type": "code",
   "execution_count": null,
   "metadata": {},
   "outputs": [],
   "source": []
  }
 ],
 "metadata": {
  "kernelspec": {
   "display_name": "Python 3",
   "language": "python",
   "name": "python3"
  },
  "language_info": {
   "codemirror_mode": {
    "name": "ipython",
    "version": 3
   },
   "file_extension": ".py",
   "mimetype": "text/x-python",
   "name": "python",
   "nbconvert_exporter": "python",
   "pygments_lexer": "ipython3",
   "version": "3.8.3"
  }
 },
 "nbformat": 4,
 "nbformat_minor": 4
}
