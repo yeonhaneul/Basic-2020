{
 "cells": [
  {
   "cell_type": "code",
   "execution_count": 1,
   "metadata": {},
   "outputs": [],
   "source": [
    "# 9*9를 만든 후, mines array에 채우기\n",
    "## 채우는 형식은 [ [], [], ...]이 된다.\n",
    "import random as rd\n",
    "mines = []\n",
    "for i in range(9):\n",
    "    rows = []\n",
    "    for k in range(9):\n",
    "        if rd.random() > 0.6:  # 폭탄이 나올 확률 40%\n",
    "            rows.append('*')\n",
    "        else:\n",
    "            rows.append('.')\n",
    "    mines.append(rows)"
   ]
  },
  {
   "cell_type": "code",
   "execution_count": 2,
   "metadata": {},
   "outputs": [
    {
     "name": "stdout",
     "output_type": "stream",
     "text": [
      ".**.*....\n",
      ".*..***..\n",
      ".*...*.**\n",
      ".*..*.*.*\n",
      ".*.*....*\n",
      "**.*....*\n",
      ".*.**....\n",
      "...*..*.*\n",
      ".*..*.**.\n"
     ]
    }
   ],
   "source": [
    "for i in range(9):\n",
    "    for k in range(9):\n",
    "        print(mines[i][k], end='')\n",
    "    print()"
   ]
  },
  {
   "cell_type": "code",
   "execution_count": 3,
   "metadata": {},
   "outputs": [],
   "source": [
    "# 결과값을 쉽게 받기 위하여 11*11칸의 바깥쪽에 가상으로 .을 넣기\n",
    "pad_mines = []\n",
    "pad_mines.append('...........')\n",
    "for i in range(9):\n",
    "    rows = ['.']\n",
    "    for k in range(9):\n",
    "        rows.append(mines[i][k])\n",
    "    rows.append('.')\n",
    "    pad_mines.append(rows)\n",
    "pad_mines.append('...........')"
   ]
  },
  {
   "cell_type": "code",
   "execution_count": 4,
   "metadata": {},
   "outputs": [
    {
     "name": "stdout",
     "output_type": "stream",
     "text": [
      "...........\n",
      "..**.*.....\n",
      "..*..***...\n",
      "..*...*.**.\n",
      "..*..*.*.*.\n",
      "..*.*....*.\n",
      ".**.*....*.\n",
      "..*.**.....\n",
      "....*..*.*.\n",
      "..*..*.**..\n",
      "...........\n"
     ]
    }
   ],
   "source": [
    "for i in range(11):\n",
    "    for k in range(11):\n",
    "        print(pad_mines[i][k], end='')\n",
    "    print()"
   ]
  },
  {
   "cell_type": "code",
   "execution_count": 5,
   "metadata": {},
   "outputs": [],
   "source": [
    "final_mines = []\n",
    "for i in range(1,10):\n",
    "    rows = []\n",
    "    for k in range(1,10):\n",
    "        if pad_mines[i][k] == '*':\n",
    "            rows.append('*')\n",
    "        else:\n",
    "            count = (pad_mines[i-1][k-1]== '*') \\\n",
    "                + (pad_mines[i-1][k]== '*') + (pad_mines[i-1][k+1]== '*') \\\n",
    "                + (pad_mines[i][k-1]== '*') + (pad_mines[i][k+1]== '*') \\\n",
    "                + (pad_mines[i+1][k-1]== '*') \\\n",
    "                + (pad_mines[i+1][k]== '*') + (pad_mines[i+1][k+1]== '*')\n",
    "            rows.append(str(count))\n",
    "        final_mines.append(rows)"
   ]
  },
  {
   "cell_type": "code",
   "execution_count": 6,
   "metadata": {},
   "outputs": [
    {
     "name": "stdout",
     "output_type": "stream",
     "text": [
      "2**3*4210\n",
      "3*43***32\n",
      "3*324*5**\n",
      "3*42*3*5*\n",
      "4*5*3214*\n",
      "**6*4102*\n",
      "3*5**2132\n",
      "224*44*4*\n",
      "1*22*3**2\n"
     ]
    }
   ],
   "source": [
    "for i in range(9):\n",
    "    for k in range(9):\n",
    "        print(final_mines[i][k], end='')\n",
    "    print()"
   ]
  },
  {
   "cell_type": "code",
   "execution_count": null,
   "metadata": {},
   "outputs": [],
   "source": []
  }
 ],
 "metadata": {
  "kernelspec": {
   "display_name": "Python 3",
   "language": "python",
   "name": "python3"
  },
  "language_info": {
   "codemirror_mode": {
    "name": "ipython",
    "version": 3
   },
   "file_extension": ".py",
   "mimetype": "text/x-python",
   "name": "python",
   "nbconvert_exporter": "python",
   "pygments_lexer": "ipython3",
   "version": "3.8.3"
  }
 },
 "nbformat": 4,
 "nbformat_minor": 4
}
