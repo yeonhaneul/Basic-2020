{
 "cells": [
  {
   "cell_type": "markdown",
   "metadata": {},
   "source": [
    "# Unit 12. 딕셔너리 사용하기"
   ]
  },
  {
   "cell_type": "code",
   "execution_count": 1,
   "metadata": {},
   "outputs": [],
   "source": [
    "lux = [490,334,550,18.72]"
   ]
  },
  {
   "cell_type": "code",
   "execution_count": 2,
   "metadata": {},
   "outputs": [],
   "source": [
    "# 딕셔너리를 사용하면 list 안의 내용을 보다 확실하게 알 수 있다.\n",
    "lux = {'health': 490, 'mana': 334, 'melee': 550, 'armor':18.72}"
   ]
  },
  {
   "cell_type": "markdown",
   "metadata": {},
   "source": [
    "### 딕셔너리 만들기"
   ]
  },
  {
   "cell_type": "code",
   "execution_count": 3,
   "metadata": {},
   "outputs": [
    {
     "data": {
      "text/plain": [
       "{'health': 490, 'mana': 334}"
      ]
     },
     "execution_count": 3,
     "metadata": {},
     "output_type": "execute_result"
    }
   ],
   "source": [
    "# 키값을 문자열 또는 변수로 주는법\n",
    "# 변수로 주는 방법은 조금 번거로워진다.\n",
    "h = 'health'\n",
    "m = 'mana'\n",
    "lux = {h: 490, m: 334}\n",
    "lux"
   ]
  },
  {
   "cell_type": "code",
   "execution_count": 4,
   "metadata": {},
   "outputs": [
    {
     "data": {
      "text/plain": [
       "800"
      ]
     },
     "execution_count": 4,
     "metadata": {},
     "output_type": "execute_result"
    }
   ],
   "source": [
    "# 키값이 중복된경우, 뒤에 지정한 값이 출력된다.\n",
    "lux = {'health': 490, 'health':800, 'mana': 334, 'melee': 550, 'armor':18.72}\n",
    "lux['health']"
   ]
  },
  {
   "cell_type": "code",
   "execution_count": 5,
   "metadata": {},
   "outputs": [
    {
     "data": {
      "text/plain": [
       "{'health': 800, 'mana': 334, 'melee': 550, 'armor': 18.72}"
      ]
     },
     "execution_count": 5,
     "metadata": {},
     "output_type": "execute_result"
    }
   ],
   "source": [
    "# 중복된 키값의경우, 뒤의 값만 출력된다.\n",
    "lux"
   ]
  },
  {
   "cell_type": "code",
   "execution_count": 6,
   "metadata": {},
   "outputs": [
    {
     "data": {
      "text/plain": [
       "{100: 'hundred', False: 0, 3.5: [3.5, 3.5]}"
      ]
     },
     "execution_count": 6,
     "metadata": {},
     "output_type": "execute_result"
    }
   ],
   "source": [
    "# 키값에는 숫자 또는 불리언이 올 수 있다.\n",
    "# value에는 문자열, 숫자, 리스트 등이 다 올 수 있다.\n",
    "x = {100: 'hundred', False: 0, 3.5: [3.5, 3.5]}\n",
    "x"
   ]
  },
  {
   "cell_type": "code",
   "execution_count": 7,
   "metadata": {},
   "outputs": [],
   "source": [
    "# 빈 딕셔너리를 만든 후, for 반복문을 통하여 빈곳을 채워넣는다.\n",
    "x = {}\n",
    "x = dict()"
   ]
  },
  {
   "cell_type": "code",
   "execution_count": 8,
   "metadata": {},
   "outputs": [
    {
     "data": {
      "text/plain": [
       "{'health': 490, 'mana': 334, 'melee': 550, 'armor': 18.72}"
      ]
     },
     "execution_count": 8,
     "metadata": {},
     "output_type": "execute_result"
    }
   ],
   "source": [
    "# dict의 () 안에 key:value 형태로 가는경우, '' 또는 \"\"를 적지 않아도 된다.\n",
    "lux1 = dict(health=490, mana=334, melee=550, armor=18.72)\n",
    "lux1"
   ]
  },
  {
   "cell_type": "code",
   "execution_count": 9,
   "metadata": {},
   "outputs": [
    {
     "data": {
      "text/plain": [
       "<zip at 0x1bf447dcf00>"
      ]
     },
     "execution_count": 9,
     "metadata": {},
     "output_type": "execute_result"
    }
   ],
   "source": [
    "# zip 함수 이용\n",
    "zip(['a', 'b', 'c'], [1, 2, 3])"
   ]
  },
  {
   "cell_type": "code",
   "execution_count": 10,
   "metadata": {},
   "outputs": [
    {
     "data": {
      "text/plain": [
       "[('a', 1), ('b', 2), ('c', 3)]"
      ]
     },
     "execution_count": 10,
     "metadata": {},
     "output_type": "execute_result"
    }
   ],
   "source": [
    "# zip 함수 내용보기 (결과는 튜플로 나온다.)\n",
    "a = list(zip(['a', 'b', 'c'], [1, 2, 3]))\n",
    "a"
   ]
  },
  {
   "cell_type": "code",
   "execution_count": 11,
   "metadata": {},
   "outputs": [
    {
     "data": {
      "text/plain": [
       "[('a', 1, 10), ('b', 2, 20), ('c', 3, 30)]"
      ]
     },
     "execution_count": 11,
     "metadata": {},
     "output_type": "execute_result"
    }
   ],
   "source": [
    "# 더 많은 어레이 붙이기\n",
    "a = list(zip(['a', 'b', 'c'], [1, 2, 3], [10, 20, 30]))\n",
    "a"
   ]
  },
  {
   "cell_type": "code",
   "execution_count": 12,
   "metadata": {},
   "outputs": [
    {
     "data": {
      "text/plain": [
       "{'health': 490, 'mana': 334, 'melee': 550, 'armor': 18.72}"
      ]
     },
     "execution_count": 12,
     "metadata": {},
     "output_type": "execute_result"
    }
   ],
   "source": [
    "# zip을 이용하여 바로 key:value 형태로 딕셔너리 만들기\n",
    "lux2 = dict(zip(['health', 'mana', 'melee', 'armor'], [490, 334, 550, 18.72]))\n",
    "lux2"
   ]
  },
  {
   "cell_type": "code",
   "execution_count": 13,
   "metadata": {},
   "outputs": [
    {
     "data": {
      "text/plain": [
       "{'health': 490, 'mana': 334, 'melee': 550, 'armor': 18.72}"
      ]
     },
     "execution_count": 13,
     "metadata": {},
     "output_type": "execute_result"
    }
   ],
   "source": [
    "# tuple(key, value)의 형태로 딕셔너리 만들기\n",
    "# (key, value)를 [](list)로 감쌌다.\n",
    "lux3 = dict([('health', 490), ('mana', 334), ('melee', 550), ('armor', 18.72)])\n",
    "lux3"
   ]
  },
  {
   "cell_type": "markdown",
   "metadata": {},
   "source": [
    "### 인덱싱 및 값 할당"
   ]
  },
  {
   "cell_type": "code",
   "execution_count": 14,
   "metadata": {},
   "outputs": [
    {
     "data": {
      "text/plain": [
       "334"
      ]
     },
     "execution_count": 14,
     "metadata": {},
     "output_type": "execute_result"
    }
   ],
   "source": [
    "lux = {'health': 490, 'mana': 334, 'melee': 550, 'armor': 18.72}\n",
    "lux['mana']   #nodeJS에서는 lux.mana 형태로 사용함"
   ]
  },
  {
   "cell_type": "code",
   "execution_count": 15,
   "metadata": {},
   "outputs": [
    {
     "data": {
      "text/plain": [
       "{'health': 2037, 'mana': 1184, 'melee': 550, 'armor': 18.72}"
      ]
     },
     "execution_count": 15,
     "metadata": {},
     "output_type": "execute_result"
    }
   ],
   "source": [
    "# 기존 딕셔너리의 값 변경\n",
    "lux['health'] = 2037\n",
    "lux['mana'] = 1184\n",
    "lux"
   ]
  },
  {
   "cell_type": "code",
   "execution_count": 16,
   "metadata": {},
   "outputs": [
    {
     "data": {
      "text/plain": [
       "{'health': 2037,\n",
       " 'mana': 1184,\n",
       " 'melee': 550,\n",
       " 'armor': 18.72,\n",
       " 'mana_regen': 3.28}"
      ]
     },
     "execution_count": 16,
     "metadata": {},
     "output_type": "execute_result"
    }
   ],
   "source": [
    "# 없는 key를 붙이는 경우 (항목 추가)\n",
    "# for루프로 돌리는경우, 오타 등으로 인하여 의도치 않은 항목이 추가될 수 있으니 주의!\n",
    "lux['mana_regen'] = 3.28\n",
    "lux"
   ]
  },
  {
   "cell_type": "code",
   "execution_count": 17,
   "metadata": {},
   "outputs": [
    {
     "ename": "KeyError",
     "evalue": "'attack_speed'",
     "output_type": "error",
     "traceback": [
      "\u001b[1;31m---------------------------------------------------------------------------\u001b[0m",
      "\u001b[1;31mKeyError\u001b[0m                                  Traceback (most recent call last)",
      "\u001b[1;32m<ipython-input-17-759a04e51299>\u001b[0m in \u001b[0;36m<module>\u001b[1;34m\u001b[0m\n\u001b[0;32m      1\u001b[0m \u001b[1;31m# 없는 키를 불러오는경우 (key error)\u001b[0m\u001b[1;33m\u001b[0m\u001b[1;33m\u001b[0m\u001b[1;33m\u001b[0m\u001b[0m\n\u001b[1;32m----> 2\u001b[1;33m \u001b[0mlux\u001b[0m\u001b[1;33m[\u001b[0m\u001b[1;34m'attack_speed'\u001b[0m\u001b[1;33m]\u001b[0m\u001b[1;33m\u001b[0m\u001b[1;33m\u001b[0m\u001b[0m\n\u001b[0m",
      "\u001b[1;31mKeyError\u001b[0m: 'attack_speed'"
     ]
    }
   ],
   "source": [
    "# 없는 키를 불러오는경우 (KeyError)\n",
    "lux['attack_speed']"
   ]
  },
  {
   "cell_type": "code",
   "execution_count": 18,
   "metadata": {},
   "outputs": [
    {
     "data": {
      "text/plain": [
       "True"
      ]
     },
     "execution_count": 18,
     "metadata": {},
     "output_type": "execute_result"
    }
   ],
   "source": [
    "# 키가 있는지 확인하여 오류 줄이기 (key명 in 딕셔너리명)\n",
    "key = 'health'\n",
    "key in lux"
   ]
  },
  {
   "cell_type": "code",
   "execution_count": 19,
   "metadata": {},
   "outputs": [
    {
     "data": {
      "text/plain": [
       "{'health': 1000,\n",
       " 'mana': 1184,\n",
       " 'melee': 550,\n",
       " 'armor': 18.72,\n",
       " 'mana_regen': 3.28}"
      ]
     },
     "execution_count": 19,
     "metadata": {},
     "output_type": "execute_result"
    }
   ],
   "source": [
    "if key in lux:\n",
    "    lux[key] = 1000\n",
    "lux"
   ]
  },
  {
   "cell_type": "code",
   "execution_count": 20,
   "metadata": {},
   "outputs": [
    {
     "data": {
      "text/plain": [
       "{'health': 1000,\n",
       " 'mana': 1184,\n",
       " 'melee': 550,\n",
       " 'armor': 18.72,\n",
       " 'mana_regen': 3.28}"
      ]
     },
     "execution_count": 20,
     "metadata": {},
     "output_type": "execute_result"
    }
   ],
   "source": [
    "# key의 갯수 (len)\n",
    "lux"
   ]
  },
  {
   "cell_type": "code",
   "execution_count": 21,
   "metadata": {},
   "outputs": [
    {
     "data": {
      "text/plain": [
       "5"
      ]
     },
     "execution_count": 21,
     "metadata": {},
     "output_type": "execute_result"
    }
   ],
   "source": [
    "len(lux)"
   ]
  },
  {
   "cell_type": "code",
   "execution_count": 22,
   "metadata": {},
   "outputs": [
    {
     "name": "stdout",
     "output_type": "stream",
     "text": [
      "575.6\n",
      "340\n"
     ]
    }
   ],
   "source": [
    "# 12.4 연습문제: 딕셔너리에 게임 캐릭터 능력치 저장하기\n",
    "camille = {\n",
    "    'health': 575.6,\n",
    "    'health_regen': 1.7,\n",
    "    'mana': 338.8,\n",
    "    'mana_regen': 1.63,\n",
    "    'melee': 125,\n",
    "    'attack_damage': 60,\n",
    "    'attack_speed': 0.625,\n",
    "    'armor': 26,\n",
    "    'magic_resistance': 32.1,\n",
    "    'movement_speed': 340\n",
    "}\n",
    "\n",
    "print(camille['health'])\n",
    "print(camille['movement_speed'])"
   ]
  },
  {
   "cell_type": "code",
   "execution_count": 25,
   "metadata": {},
   "outputs": [
    {
     "name": "stdout",
     "output_type": "stream",
     "text": [
      "health mana melee attack_speed magic_resistance\n",
      "573.6 308.8 600 0.625 35.7\n",
      "{'health': 573.6, 'mana': 308.8, 'melee': 600.0, 'attack_speed': 0.625, 'magic_resistance': 35.7}\n"
     ]
    }
   ],
   "source": [
    "# 12.5 심사문제: 딕셔너리에 게임 캐릭터 능력치 저장하기\n",
    "## 표준 입력으로 문자열 여러 개와 숫자(실수) 여러 개가 두 줄로 입력됩니다.\n",
    "## 입력된 첫 번째 줄은 키, 두 번째 줄은 값으로 하여 딕셔너리를 생성한 뒤\n",
    "## 딕셔너리를 출력하는 프로그램을 만드세요.\n",
    "## input().split()의 결과를 변수 한 개에 저장하면 리스트로 저장됩니다.\n",
    "\n",
    "a = input().split()\n",
    "b = map(float, input().split())\n",
    "c = dict(zip(a, b))\n",
    "print(c)"
   ]
  },
  {
   "cell_type": "code",
   "execution_count": null,
   "metadata": {},
   "outputs": [],
   "source": []
  }
 ],
 "metadata": {
  "kernelspec": {
   "display_name": "Python 3",
   "language": "python",
   "name": "python3"
  },
  "language_info": {
   "codemirror_mode": {
    "name": "ipython",
    "version": 3
   },
   "file_extension": ".py",
   "mimetype": "text/x-python",
   "name": "python",
   "nbconvert_exporter": "python",
   "pygments_lexer": "ipython3",
   "version": "3.8.3"
  }
 },
 "nbformat": 4,
 "nbformat_minor": 4
}
