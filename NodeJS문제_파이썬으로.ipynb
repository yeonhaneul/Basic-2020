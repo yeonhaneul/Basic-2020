{
 "cells": [
  {
   "cell_type": "markdown",
   "metadata": {},
   "source": [
    "#### 1. 양의 정수 N을 입력으로 받아 1부터 N까지 제곱의 합과 합의 제곱을 구하시오."
   ]
  },
  {
   "cell_type": "code",
   "execution_count": 1,
   "metadata": {},
   "outputs": [
    {
     "name": "stdout",
     "output_type": "stream",
     "text": [
      "정수 입력> 10\n",
      "제곱의 합은 385입니다.\n",
      "합의 제곱은 3025 입니다.\n"
     ]
    }
   ],
   "source": [
    "n = int(input('정수 입력> '))\n",
    "\n",
    "# 제곱의 합\n",
    "a = 0\n",
    "for i in range(1,n+1):\n",
    "    i = i*i\n",
    "    a += i\n",
    "print(f'제곱의 합은 {a}입니다.')\n",
    "\n",
    "# 합의 제곱\n",
    "b = 0\n",
    "for i in range(1, n+1):\n",
    "    b += i\n",
    "print(f'합의 제곱은 {b*b} 입니다.')"
   ]
  },
  {
   "cell_type": "markdown",
   "metadata": {},
   "source": [
    "#### 2. a + b + c = 1000 인 피타고라스 수를 구하시오.  즉, a*a + b*b = c*c 을 만족하고 a < b < c 이고, a + b > c 이다."
   ]
  },
  {
   "cell_type": "code",
   "execution_count": 2,
   "metadata": {},
   "outputs": [
    {
     "name": "stdout",
     "output_type": "stream",
     "text": [
      "200 375 425\n"
     ]
    }
   ],
   "source": [
    "a = 0\n",
    "b = 0\n",
    "c = 0\n",
    "\n",
    "for a in range(1,333):\n",
    "    for b in range(1,500):\n",
    "        c = 1000 - a - b\n",
    "        if (c > (a+b)):\n",
    "            pass\n",
    "        if (c*c == (a*a + b*b)):\n",
    "            print(a, b, c)"
   ]
  },
  {
   "cell_type": "markdown",
   "metadata": {},
   "source": [
    "#### 3. 디지털 시계에 하루동안(00:00~23:59) 3이 표시되는 시간을 초로 환산하면 총 몇 초(second) 인가?"
   ]
  },
  {
   "cell_type": "code",
   "execution_count": 3,
   "metadata": {},
   "outputs": [
    {
     "name": "stdout",
     "output_type": "stream",
     "text": [
      "29700\n"
     ]
    }
   ],
   "source": [
    "secTotal = 0\n",
    "for hour in range(24):\n",
    "    for minute in range(60):\n",
    "        if '3' in str(hour) or '3' in str(minute):\n",
    "            secTotal += 60\n",
    "print(secTotal)"
   ]
  },
  {
   "cell_type": "markdown",
   "metadata": {},
   "source": [
    "#### 4. 1에서 1000까지 각 숫자의 갯수를 구하시오.\n",
    "##### 예) 10 ~ 15\n",
    "##### 10 => 1, 0\n",
    "##### 11 => 1, 1\n",
    "##### 12 => 1, 2\n",
    "##### 13 => 1, 3\n",
    "##### 14 => 1, 4\n",
    "##### 15 => 1, 5\n",
    "##### 즉, 0: 1개, 1: 7개, 2: 1개, 3: 1개, 4: 1개, 5: 1개"
   ]
  },
  {
   "cell_type": "code",
   "execution_count": 4,
   "metadata": {},
   "outputs": [
    {
     "name": "stdout",
     "output_type": "stream",
     "text": [
      "0:192개\n",
      "1:301개\n",
      "2:300개\n",
      "3:300개\n",
      "4:300개\n",
      "5:300개\n",
      "6:300개\n",
      "7:300개\n",
      "8:300개\n",
      "9:300개\n"
     ]
    }
   ],
   "source": [
    "a = [0, 0, 0, 0, 0, 0, 0, 0, 0, 0]\n",
    "\n",
    "for i in range(1, 1001):\n",
    "    for k in str(i):\n",
    "        a[int(k)]+=1\n",
    "\n",
    "for i in range(10):\n",
    "    print(f'{i}:{a[i]}개')"
   ]
  },
  {
   "cell_type": "markdown",
   "metadata": {},
   "source": [
    "#### 5. 세자리 수를 곱해 만들 수 있는 가장 큰 대칭수(palindrome)와 세자리 수를 구하시오. 단, 대칭수는 12321과 같은 수를 의미함."
   ]
  },
  {
   "cell_type": "code",
   "execution_count": 5,
   "metadata": {},
   "outputs": [
    {
     "name": "stdout",
     "output_type": "stream",
     "text": [
      "913 993 906609\n"
     ]
    }
   ],
   "source": [
    "result = 0\n",
    "maxI = 0\n",
    "maxK = 0\n",
    "\n",
    "for i in range(100,1000):\n",
    "    for k in range(100,1000):\n",
    "        a=str(i*k)\n",
    "        if a==a[::-1] and i*k >result :\n",
    "            result = i*k\n",
    "            maxI = i\n",
    "            maxK = k\n",
    "            \n",
    "print(maxI, maxK, result)"
   ]
  }
 ],
 "metadata": {
  "kernelspec": {
   "display_name": "Python 3",
   "language": "python",
   "name": "python3"
  },
  "language_info": {
   "codemirror_mode": {
    "name": "ipython",
    "version": 3
   },
   "file_extension": ".py",
   "mimetype": "text/x-python",
   "name": "python",
   "nbconvert_exporter": "python",
   "pygments_lexer": "ipython3",
   "version": "3.8.3"
  }
 },
 "nbformat": 4,
 "nbformat_minor": 4
}
